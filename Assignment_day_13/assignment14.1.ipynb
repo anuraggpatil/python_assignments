{
    "metadata": {
        "kernelspec": {
            "name": "SQL",
            "display_name": "SQL",
            "language": "sql"
        },
        "language_info": {
            "name": "sql",
            "version": ""
        }
    },
    "nbformat_minor": 2,
    "nbformat": 4,
    "cells": [
        {
            "cell_type": "code",
            "source": [
                "USE ecolab_books_db"
            ],
            "metadata": {
                "azdata_cell_guid": "3d1af4a7-66bf-46c2-9c25-9e2022a79287",
                "language": "sql"
            },
            "outputs": [
                {
                    "output_type": "display_data",
                    "data": {
                        "text/html": "Commands completed successfully."
                    },
                    "metadata": {}
                },
                {
                    "output_type": "display_data",
                    "data": {
                        "text/html": "Total execution time: 00:00:00"
                    },
                    "metadata": {}
                }
            ],
            "execution_count": 1
        },
        {
            "cell_type": "code",
            "source": [
                "CREATE TABLE \r\n",
                "    new_books(\r\n",
                "        id VARCHAR(100) NOT NULL PRIMARY KEY,\r\n",
                "        title VARCHAR(100) NOT NULL,\r\n",
                "        author VARCHAR(100) NOT NULL,\r\n",
                "        descrip VARCHAR(1000) DEFAULT('')\r\n",
                "    )"
            ],
            "metadata": {
                "language": "sql",
                "azdata_cell_guid": "b0c585f9-d306-49f4-9a8f-5670d3e518d2",
                "tags": []
            },
            "outputs": [
                {
                    "output_type": "display_data",
                    "data": {
                        "text/html": "Commands completed successfully."
                    },
                    "metadata": {}
                },
                {
                    "output_type": "display_data",
                    "data": {
                        "text/html": "Total execution time: 00:00:00.004"
                    },
                    "metadata": {}
                }
            ],
            "execution_count": 3
        },
        {
            "cell_type": "code",
            "source": [
                "CREATE TABLE\r\n",
                "    book_info(\r\n",
                "        isbn INT NOT NULL PRIMARY KEY,\r\n",
                "        book_id VARCHAR(100) NOT NULL FOREIGN KEY REFERENCES new_books(id) ON DELETE CASCADE ON UPDATE CASCADE,\r\n",
                "        format VARCHAR(100) NOT NULL,\r\n",
                "        price INT DEFAULT(0),\r\n",
                "        cover VARCHAR(100),\r\n",
                "        publisher VARCHAR(100)\r\n",
                "    )"
            ],
            "metadata": {
                "language": "sql",
                "azdata_cell_guid": "fa235aa0-29c4-43d5-b1ad-7b0776eb181c"
            },
            "outputs": [
                {
                    "output_type": "display_data",
                    "data": {
                        "text/html": "Commands completed successfully."
                    },
                    "metadata": {}
                },
                {
                    "output_type": "display_data",
                    "data": {
                        "text/html": "Total execution time: 00:00:00.011"
                    },
                    "metadata": {}
                }
            ],
            "execution_count": 7
        },
        {
            "cell_type": "code",
            "source": [
                "CREATE TABLE\r\n",
                "    publisher(\r\n",
                "        name VARCHAR(100) NOT NULL ,\r\n",
                "        address VARCHAR(1000),\r\n",
                "        website VARCHAR(100) NOT NULL PRIMARY KEY\r\n",
                "    )"
            ],
            "metadata": {
                "language": "sql",
                "azdata_cell_guid": "7abde586-c3a7-495f-96c9-4f7f296f8aa6"
            },
            "outputs": [
                {
                    "output_type": "error",
                    "ename": "",
                    "evalue": "Msg 1776, Level 16, State 0, Line 1\r\nThere are no primary or candidate keys in the referenced table 'book_info' that match the referencing column list in the foreign key 'FK__publisher__name__4D94879B'.",
                    "traceback": []
                },
                {
                    "output_type": "error",
                    "ename": "",
                    "evalue": "Msg 1750, Level 16, State 1, Line 1\r\nCould not create constraint or index. See previous errors.",
                    "traceback": []
                },
                {
                    "output_type": "display_data",
                    "data": {
                        "text/html": "Total execution time: 00:00:00.008"
                    },
                    "metadata": {}
                }
            ],
            "execution_count": 8
        },
        {
            "cell_type": "code",
            "source": [
                "CREATE TABLE NEW_REVIEWS(\r\n",
                "    id INT IDENTITY PRIMARY KEY,\r\n",
                "    book_id VARCHAR(100) NOT NULL FOREIGN KEY REFERENCES new_BOOKS(id) ON DELETE CASCADE ON UPDATE CASCADE,\r\n",
                "    rating INT NOT NULL\r\n",
                ")"
            ],
            "metadata": {
                "language": "sql",
                "azdata_cell_guid": "30b364d9-921d-41e1-b8d9-5592923a8216"
            },
            "outputs": [],
            "execution_count": null
        },
        {
            "cell_type": "code",
            "source": [
                ""
            ],
            "metadata": {
                "language": "sql",
                "azdata_cell_guid": "377e0453-8888-4d1d-8ed7-cf38b25198d8"
            },
            "outputs": [],
            "execution_count": null
        }
    ]
}