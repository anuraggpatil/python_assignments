{
    "metadata": {
        "kernelspec": {
            "name": "SQL",
            "display_name": "SQL",
            "language": "sql"
        },
        "language_info": {
            "name": "sql",
            "version": ""
        }
    },
    "nbformat_minor": 2,
    "nbformat": 4,
    "cells": [
        {
            "cell_type": "code",
            "source": [
                "CREATE DATABASE final_assignment_db"
            ],
            "metadata": {
                "azdata_cell_guid": "f9d7161a-21f2-4882-8a28-8ed6404e975c",
                "language": "sql"
            },
            "outputs": [
                {
                    "output_type": "display_data",
                    "data": {
                        "text/html": "Commands completed successfully."
                    },
                    "metadata": {}
                },
                {
                    "output_type": "display_data",
                    "data": {
                        "text/html": "Total execution time: 00:00:00.919"
                    },
                    "metadata": {}
                }
            ],
            "execution_count": 1
        },
        {
            "cell_type": "code",
            "source": [
                "USE final_assignment_db"
            ],
            "metadata": {
                "language": "sql",
                "azdata_cell_guid": "fbc4e649-7f48-42ab-8295-599a28dcbd23"
            },
            "outputs": [
                {
                    "output_type": "display_data",
                    "data": {
                        "text/html": "Commands completed successfully."
                    },
                    "metadata": {}
                },
                {
                    "output_type": "display_data",
                    "data": {
                        "text/html": "Total execution time: 00:00:00"
                    },
                    "metadata": {}
                }
            ],
            "execution_count": 5
        },
        {
            "cell_type": "code",
            "source": [
                "CREATE TABLE \r\n",
                "    authors(\r\n",
                "        author_id VARCHAR(100) NOT NULL PRIMARY KEY,\r\n",
                "        author_name VARCHAR(100) NOT NULL\r\n",
                "    )\r\n",
                "\r\n",
                "CREATE TABLE\r\n",
                "    books(\r\n",
                "        book_id VARCHAR(100) NOT NULL PRIMARY KEY,\r\n",
                "        book_name VARCHAR(100) NOT NULL,\r\n",
                "        author_id VARCHAR(100) NOT NULL FOREIGN KEY REFERENCES authors(author_id) ON DELETE CASCADE ON UPDATE CASCADE,\r\n",
                "        price INT DEFAULT(0)\r\n",
                "    )"
            ],
            "metadata": {
                "language": "sql",
                "azdata_cell_guid": "c2e4ec04-e56d-499a-ad9a-83d5bba1aa78",
                "tags": []
            },
            "outputs": [
                {
                    "output_type": "display_data",
                    "data": {
                        "text/html": "Commands completed successfully."
                    },
                    "metadata": {}
                },
                {
                    "output_type": "display_data",
                    "data": {
                        "text/html": "Total execution time: 00:00:00.011"
                    },
                    "metadata": {}
                }
            ],
            "execution_count": 6
        },
        {
            "cell_type": "code",
            "source": [
                "CREATE TABLE\r\n",
                "    users(\r\n",
                "        user_id VARCHAR(100) NOT NULL PRIMARY KEY,\r\n",
                "        user_name VARCHAR(100) NOT NULL\r\n",
                "    )\r\n",
                "\r\n",
                "CREATE TABLE\r\n",
                "    book_users(\r\n",
                "        book_id VARCHAR(100) NOT NULL FOREIGN KEY REFERENCES books(book_id) ON DELETE CASCADE ON UPDATE CASCADE,\r\n",
                "        user_id VARCHAR(100) NOT NULL FOREIGN KEY REFERENCES users(user_id) ON DELETE CASCADE ON UPDATE CASCADE\r\n",
                "    )"
            ],
            "metadata": {
                "language": "sql",
                "azdata_cell_guid": "f8859f7a-fced-4ef5-bdc8-847661c22c45"
            },
            "outputs": [
                {
                    "output_type": "display_data",
                    "data": {
                        "text/html": "Commands completed successfully."
                    },
                    "metadata": {}
                },
                {
                    "output_type": "display_data",
                    "data": {
                        "text/html": "Total execution time: 00:00:00.010"
                    },
                    "metadata": {}
                }
            ],
            "execution_count": 7
        },
        {
            "cell_type": "code",
            "source": [
                "CREATE TABLE \r\n",
                "    reviews(\r\n",
                "        book_id VARCHAR(100) NOT NULL FOREIGN KEY REFERENCES books(book_id) ON DELETE CASCADE ON UPDATE CASCADE,\r\n",
                "        user_id VARCHAR(100) NOT NULL FOREIGN KEY REFERENCES users(user_id) ON DELETE CASCADE ON UPDATE CASCADE,\r\n",
                "        rating INT NOT NULL,\r\n",
                "        review VARCHAR(300)\r\n",
                "    )"
            ],
            "metadata": {
                "language": "sql",
                "azdata_cell_guid": "e9cec7a6-df8c-482e-9a76-9a965b379953"
            },
            "outputs": [
                {
                    "output_type": "display_data",
                    "data": {
                        "text/html": "Commands completed successfully."
                    },
                    "metadata": {}
                },
                {
                    "output_type": "display_data",
                    "data": {
                        "text/html": "Total execution time: 00:00:00.008"
                    },
                    "metadata": {}
                }
            ],
            "execution_count": 22
        },
        {
            "cell_type": "code",
            "source": [
                "CREATE PROCEDURE add_author\r\n",
                "    @author_id VARCHAR(100),\r\n",
                "    @author_name VARCHAR(100)\r\n",
                "AS\r\n",
                "    INSERT INTO\r\n",
                "        authors\r\n",
                "        (author_id, author_name)\r\n",
                "        VALUES\r\n",
                "        (@author_id, @author_name)\r\n",
                "GO\r\n",
                ""
            ],
            "metadata": {
                "language": "sql",
                "azdata_cell_guid": "aa11ad62-064a-4434-a5bd-772985bccb36"
            },
            "outputs": [
                {
                    "output_type": "display_data",
                    "data": {
                        "text/html": "Commands completed successfully."
                    },
                    "metadata": {}
                },
                {
                    "output_type": "display_data",
                    "data": {
                        "text/html": "Total execution time: 00:00:00.014"
                    },
                    "metadata": {}
                }
            ],
            "execution_count": 9
        },
        {
            "cell_type": "code",
            "source": [
                "CREATE PROCEDURE remove_author\r\n",
                "    @author_id VARCHAR(100)\r\n",
                "AS\r\n",
                "    DELETE FROM\r\n",
                "        authors\r\n",
                "    WHERE\r\n",
                "        author_id = @author_id\r\n",
                "GO"
            ],
            "metadata": {
                "language": "sql",
                "azdata_cell_guid": "ee45a848-a86c-43d3-8c22-6c8439a87aaa",
                "tags": []
            },
            "outputs": [
                {
                    "output_type": "display_data",
                    "data": {
                        "text/html": "Commands completed successfully."
                    },
                    "metadata": {}
                },
                {
                    "output_type": "display_data",
                    "data": {
                        "text/html": "Total execution time: 00:00:00.002"
                    },
                    "metadata": {}
                }
            ],
            "execution_count": 10
        },
        {
            "cell_type": "code",
            "source": [
                "CREATE PROCEDURE get_all_authors\r\n",
                "AS\r\n",
                "    SELECT \r\n",
                "        *\r\n",
                "    FROM\r\n",
                "        authors\r\n",
                "GO"
            ],
            "metadata": {
                "language": "sql",
                "azdata_cell_guid": "deeb450c-b568-4950-a3c1-d2ead4af661e",
                "tags": []
            },
            "outputs": [
                {
                    "output_type": "display_data",
                    "data": {
                        "text/html": "Commands completed successfully."
                    },
                    "metadata": {}
                },
                {
                    "output_type": "display_data",
                    "data": {
                        "text/html": "Total execution time: 00:00:00.005"
                    },
                    "metadata": {}
                }
            ],
            "execution_count": 11
        },
        {
            "cell_type": "code",
            "source": [
                "CREATE PROCEDURE get_author_by_id\r\n",
                "    @author_id VARCHAR(100)\r\n",
                "AS\r\n",
                "    SELECT *\r\n",
                "    FROM  \r\n",
                "        authors\r\n",
                "    WHERE\r\n",
                "        author_id = @author_id\r\n",
                "GO"
            ],
            "metadata": {
                "language": "sql",
                "azdata_cell_guid": "a048bb01-eb62-46fc-a5fc-ec843fa95960"
            },
            "outputs": [
                {
                    "output_type": "display_data",
                    "data": {
                        "text/html": "Commands completed successfully."
                    },
                    "metadata": {}
                },
                {
                    "output_type": "display_data",
                    "data": {
                        "text/html": "Total execution time: 00:00:00.004"
                    },
                    "metadata": {}
                }
            ],
            "execution_count": 17
        },
        {
            "cell_type": "code",
            "source": [
                "CREATE PROCEDURE update_author\r\n",
                "    @author_id VARCHAR(100),\r\n",
                "    @new_author_id VARCHAR(100),\r\n",
                "    @new_author_name VARCHAR(100)\r\n",
                "AS  \r\n",
                "    UPDATE\r\n",
                "        authors\r\n",
                "    SET\r\n",
                "        author_id = @new_author_id,\r\n",
                "        author_name = @new_author_name\r\n",
                "    WHERE\r\n",
                "        author_id = @author_id\r\n",
                "GO"
            ],
            "metadata": {
                "language": "sql",
                "azdata_cell_guid": "725e0a76-d4fa-4993-a736-b4d890976e20"
            },
            "outputs": [
                {
                    "output_type": "display_data",
                    "data": {
                        "text/html": "Commands completed successfully."
                    },
                    "metadata": {}
                },
                {
                    "output_type": "display_data",
                    "data": {
                        "text/html": "Total execution time: 00:00:00.005"
                    },
                    "metadata": {}
                }
            ],
            "execution_count": 19
        },
        {
            "cell_type": "code",
            "source": [
                "CREATE PROCEDURE get_author_reviews\r\n",
                "    @author_id VARCHAR(100)\r\n",
                "AS\r\n",
                "    SELECT \r\n",
                "        r.book_id,\r\n",
                "        rating,\r\n",
                "        review\r\n",
                "    FROM\r\n",
                "        books as b\r\n",
                "    JOIN\r\n",
                "        reviews as r\r\n",
                "    ON\r\n",
                "        b.book_id = r.book_id\r\n",
                "    WHERE\r\n",
                "        b.author_id = @author_id\r\n",
                "    GO\r\n",
                "    \r\n",
                ""
            ],
            "metadata": {
                "language": "sql",
                "azdata_cell_guid": "5f7d29ec-79eb-4592-ac78-9c7331f22ec6"
            },
            "outputs": [
                {
                    "output_type": "display_data",
                    "data": {
                        "text/html": "Commands completed successfully."
                    },
                    "metadata": {}
                },
                {
                    "output_type": "display_data",
                    "data": {
                        "text/html": "Total execution time: 00:00:00.005"
                    },
                    "metadata": {}
                }
            ],
            "execution_count": 23
        },
        {
            "cell_type": "code",
            "source": [
                "CREATE PROCEDURE add_book\r\n",
                "    @book_id VARCHAR(100),\r\n",
                "    @book_name VARCHAR(100),\r\n",
                "    @author_id VARCHAR(100),\r\n",
                "    @price INT\r\n",
                "AS\r\n",
                "    INSERT INTO \r\n",
                "        books(book_id, book_name, author_id, price)\r\n",
                "    VALUES( @book_id, @book_name, @author_id, @price )\r\n",
                "GO"
            ],
            "metadata": {
                "language": "sql",
                "azdata_cell_guid": "a26cfdc8-6c97-4a45-86dd-fa4f5d411a51"
            },
            "outputs": [
                {
                    "output_type": "display_data",
                    "data": {
                        "text/html": "Commands completed successfully."
                    },
                    "metadata": {}
                },
                {
                    "output_type": "display_data",
                    "data": {
                        "text/html": "Total execution time: 00:00:00.006"
                    },
                    "metadata": {}
                }
            ],
            "execution_count": 24
        },
        {
            "cell_type": "code",
            "source": [
                "CREATE PROCEDURE get_all_books\r\n",
                "AS\r\n",
                "    SELECT *\r\n",
                "    FROM \r\n",
                "        books\r\n",
                "GO"
            ],
            "metadata": {
                "language": "sql",
                "azdata_cell_guid": "9a92b454-ea57-42f0-931e-b33d7a411e43"
            },
            "outputs": [
                {
                    "output_type": "display_data",
                    "data": {
                        "text/html": "Commands completed successfully."
                    },
                    "metadata": {}
                },
                {
                    "output_type": "display_data",
                    "data": {
                        "text/html": "Total execution time: 00:00:00.006"
                    },
                    "metadata": {}
                }
            ],
            "execution_count": 27
        },
        {
            "cell_type": "code",
            "source": [
                "CREATE PROCEDURE add_book_review\r\n",
                "    @book_id VARCHAR(100),\r\n",
                "    @user_id VARCHAR(100),\r\n",
                "    @rating INT,\r\n",
                "    @title VARCHAR(100),\r\n",
                "    @review VARCHAR(300)\r\n",
                "AS \r\n",
                "    INSERT INTO \r\n",
                "        reviews (book_id, user_id, rating, review)\r\n",
                "    VALUES\r\n",
                "        (@book_id, @user_id, @rating, @review)\r\n",
                "GO\r\n",
                "    "
            ],
            "metadata": {
                "language": "sql",
                "azdata_cell_guid": "a9ca256b-ce09-4b7b-a110-c636a9088dcd"
            },
            "outputs": [
                {
                    "output_type": "display_data",
                    "data": {
                        "text/html": "Commands completed successfully."
                    },
                    "metadata": {}
                },
                {
                    "output_type": "display_data",
                    "data": {
                        "text/html": "Total execution time: 00:00:00.004"
                    },
                    "metadata": {}
                }
            ],
            "execution_count": 29
        },
        {
            "cell_type": "code",
            "source": [
                "CREATE PROCEDURE remove_book\r\n",
                "    @book_id VARCHAR(100)\r\n",
                "AS\r\n",
                "    DELETE FROM \r\n",
                "        books \r\n",
                "    WHERE\r\n",
                "        book_id = @book_id\r\n",
                "GO"
            ],
            "metadata": {
                "language": "sql",
                "azdata_cell_guid": "ff5d00ae-00a6-48ef-877f-9f880b5a55c9",
                "tags": [
                    "hide_input"
                ]
            },
            "outputs": [
                {
                    "output_type": "display_data",
                    "data": {
                        "text/html": "Commands completed successfully."
                    },
                    "metadata": {}
                },
                {
                    "output_type": "display_data",
                    "data": {
                        "text/html": "Total execution time: 00:00:00.002"
                    },
                    "metadata": {}
                }
            ],
            "execution_count": 30
        },
        {
            "cell_type": "code",
            "source": [
                "CREATE PROCEDURE get_book_by_id\r\n",
                "    @book_id VARCHAR(100)\r\n",
                "AS\r\n",
                "    SELECT * \r\n",
                "    FROM books \r\n",
                "    WHERE book_id = @book_id\r\n",
                "GO"
            ],
            "metadata": {
                "language": "sql",
                "azdata_cell_guid": "bbea92f4-2d93-4366-8087-86fbc6382cbb"
            },
            "outputs": [
                {
                    "output_type": "display_data",
                    "data": {
                        "text/html": "Commands completed successfully."
                    },
                    "metadata": {}
                },
                {
                    "output_type": "display_data",
                    "data": {
                        "text/html": "Total execution time: 00:00:00.005"
                    },
                    "metadata": {}
                }
            ],
            "execution_count": 31
        },
        {
            "cell_type": "code",
            "source": [
                "CREATE PROCEDURE get_books_by_author_id\r\n",
                "    @author_id VARCHAR(100)\r\n",
                "AS\r\n",
                "    SELECT *\r\n",
                "    FROM \r\n",
                "        BOOKS\r\n",
                "    WHERE\r\n",
                "        author_id = @author_id\r\n",
                "GO"
            ],
            "metadata": {
                "language": "sql",
                "azdata_cell_guid": "52cc656b-45b2-4ce5-8695-3dd421212837"
            },
            "outputs": [
                {
                    "output_type": "display_data",
                    "data": {
                        "text/html": "Commands completed successfully."
                    },
                    "metadata": {}
                },
                {
                    "output_type": "display_data",
                    "data": {
                        "text/html": "Total execution time: 00:00:00.004"
                    },
                    "metadata": {}
                }
            ],
            "execution_count": 34
        },
        {
            "cell_type": "code",
            "source": [
                "CREATE PROCEDURE get_book_reviews\r\n",
                "    @book_title VARCHAR(100)\r\n",
                "AS\r\n",
                "    SELECT\r\n",
                "        r.book_id,\r\n",
                "        r.user_id,\r\n",
                "        rating, review\r\n",
                "    FROM\r\n",
                "        REVIEWS as r\r\n",
                "    INNER JOIN\r\n",
                "        books as b\r\n",
                "    ON \r\n",
                "        b.book_id = r.book_id\r\n",
                "    WHERE\r\n",
                "        b.book_name like '%'+ @book_title + '%'\r\n",
                "GO\r\n",
                ""
            ],
            "metadata": {
                "language": "sql",
                "azdata_cell_guid": "d7646537-94db-462e-9c11-f668f076e2ea"
            },
            "outputs": [
                {
                    "output_type": "display_data",
                    "data": {
                        "text/html": "Commands completed successfully."
                    },
                    "metadata": {}
                },
                {
                    "output_type": "display_data",
                    "data": {
                        "text/html": "Commands completed successfully."
                    },
                    "metadata": {}
                },
                {
                    "output_type": "display_data",
                    "data": {
                        "text/html": "Total execution time: 00:00:00.007"
                    },
                    "metadata": {}
                }
            ],
            "execution_count": 40
        },
        {
            "cell_type": "code",
            "source": [
                "CREATE PROCEDURE add_user\r\n",
                "    @user_id VARCHAR(100),\r\n",
                "    @user_name VARCHAR(100)\r\n",
                "AS\r\n",
                "    INSERT INTO \r\n",
                "        users(user_id, user_name)\r\n",
                "    VALUES\r\n",
                "        (@user_id, @user_name)\r\n",
                "GO"
            ],
            "metadata": {
                "language": "sql",
                "azdata_cell_guid": "5a459522-82cd-409f-a76c-5428212dbd64"
            },
            "outputs": [
                {
                    "output_type": "display_data",
                    "data": {
                        "text/html": "Commands completed successfully."
                    },
                    "metadata": {}
                },
                {
                    "output_type": "display_data",
                    "data": {
                        "text/html": "Total execution time: 00:00:00.004"
                    },
                    "metadata": {}
                }
            ],
            "execution_count": 37
        },
        {
            "cell_type": "code",
            "source": [
                "CREATE PROCEDURE get_user\r\n",
                "    @user_id VARCHAR(100)\r\n",
                "AS\r\n",
                "    SELECT *\r\n",
                "    FROM\r\n",
                "        users\r\n",
                "    WHERE \r\n",
                "        user_id = @user_id\r\n",
                "GO"
            ],
            "metadata": {
                "language": "sql",
                "azdata_cell_guid": "adf74d15-6174-4671-bbf9-62802841b7f6"
            },
            "outputs": [
                {
                    "output_type": "display_data",
                    "data": {
                        "text/html": "Commands completed successfully."
                    },
                    "metadata": {}
                },
                {
                    "output_type": "display_data",
                    "data": {
                        "text/html": "Total execution time: 00:00:00.004"
                    },
                    "metadata": {}
                }
            ],
            "execution_count": 41
        },
        {
            "cell_type": "code",
            "source": [
                ""
            ],
            "metadata": {
                "language": "sql",
                "azdata_cell_guid": "ea882176-cd14-4eb8-916c-019e67d54c60"
            },
            "outputs": [
                {
                    "output_type": "display_data",
                    "data": {
                        "text/html": "(1 row affected)"
                    },
                    "metadata": {}
                },
                {
                    "output_type": "display_data",
                    "data": {
                        "text/html": "Total execution time: 00:00:00.007"
                    },
                    "metadata": {}
                },
                {
                    "output_type": "execute_result",
                    "metadata": {},
                    "execution_count": 47,
                    "data": {
                        "application/vnd.dataresource+json": {
                            "schema": {
                                "fields": [
                                    {
                                        "name": "book_id"
                                    },
                                    {
                                        "name": "rating"
                                    },
                                    {
                                        "name": "review"
                                    }
                                ]
                            },
                            "data": [
                                {
                                    "book_id": "harry_potter3",
                                    "rating": "4",
                                    "review": "it is good"
                                }
                            ]
                        },
                        "text/html": [
                            "<table>",
                            "<tr><th>book_id</th><th>rating</th><th>review</th></tr>",
                            "<tr><td>harry_potter3</td><td>4</td><td>it is good</td></tr>",
                            "</table>"
                        ]
                    }
                }
            ],
            "execution_count": 47
        }
    ]
}